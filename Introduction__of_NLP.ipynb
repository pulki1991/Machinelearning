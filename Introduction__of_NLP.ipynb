{
  "nbformat": 4,
  "nbformat_minor": 0,
  "metadata": {
    "colab": {
      "provenance": [],
      "include_colab_link": true
    },
    "kernelspec": {
      "name": "python3",
      "display_name": "Python 3"
    }
  },
  "cells": [
    {
      "cell_type": "markdown",
      "metadata": {
        "id": "view-in-github",
        "colab_type": "text"
      },
      "source": [
        "<a href=\"https://colab.research.google.com/github/pulki1991/Machinelearning/blob/main/Introduction__of_NLP.ipynb\" target=\"_parent\"><img src=\"https://colab.research.google.com/assets/colab-badge.svg\" alt=\"Open In Colab\"/></a>"
      ]
    },
    {
      "cell_type": "code",
      "metadata": {
        "id": "aIr4gmR1ebiw",
        "colab": {
          "base_uri": "https://localhost:8080/"
        },
        "outputId": "d44d6a27-194a-49e0-c934-64aae86619bd"
      },
      "source": [
        "#Split by Whitespace\n",
        "import re\n",
        "text = 'I\\'m with you for the entire life in U.K.!'\n",
        "words = re.split(r'\\W+', text)\n",
        "print(words[:100])"
      ],
      "execution_count": 4,
      "outputs": [
        {
          "output_type": "stream",
          "name": "stdout",
          "text": [
            "['I', 'm', 'with', 'you', 'for', 'the', 'entire', 'life', 'in', 'U', 'K', '']\n"
          ]
        }
      ]
    },
    {
      "cell_type": "code",
      "metadata": {
        "id": "Wxp9RHhfgCpm",
        "colab": {
          "base_uri": "https://localhost:8080/"
        },
        "outputId": "0759df4c-df67-4981-bfe5-83a10a8dacc5"
      },
      "source": [
        "#Select Words\n",
        "words = re.split(r'\\W+', text)\n",
        "print(words[:100])"
      ],
      "execution_count": 5,
      "outputs": [
        {
          "output_type": "stream",
          "name": "stdout",
          "text": [
            "['I', 'm', 'with', 'you', 'for', 'the', 'entire', 'life', 'in', 'U', 'K', '']\n"
          ]
        }
      ]
    },
    {
      "cell_type": "code",
      "source": [
        "import string\n",
        "s = '  Welcome TO  \\n\\&\\$\\@ JournalDev '\n",
        "print(string.capwords(s))"
      ],
      "metadata": {
        "colab": {
          "base_uri": "https://localhost:8080/"
        },
        "id": "soZJis5OumlB",
        "outputId": "3e776e3d-fc5b-4949-9339-f59fab485ce5"
      },
      "execution_count": 6,
      "outputs": [
        {
          "output_type": "stream",
          "name": "stdout",
          "text": [
            "Welcome To \\&\\$\\@ Journaldev\n"
          ]
        }
      ]
    },
    {
      "cell_type": "code",
      "metadata": {
        "id": "HneykDD2gC4k",
        "colab": {
          "base_uri": "https://localhost:8080/"
        },
        "outputId": "b1dd9c9c-5d74-4ea0-fb00-b526882e2a4f"
      },
      "source": [
        "import string\n",
        "import re\n",
        "# split into words by white space\n",
        "text = 'I\\'m with you for the entire life in @U.K.! $'\n",
        "words = text.split()\n",
        "# prepare regex for char filtering\n",
        "re_punc = re.compile('[%s]' % re.escape(string.punctuation))\n",
        "# remove punctuation from each word\n",
        "stripped = [re_punc.sub('', w) for w in words]\n",
        "print(stripped[:100])\n"
      ],
      "execution_count": 7,
      "outputs": [
        {
          "output_type": "stream",
          "name": "stdout",
          "text": [
            "['Im', 'with', 'you', 'for', 'the', 'entire', 'life', 'in', 'UK', '']\n"
          ]
        }
      ]
    },
    {
      "cell_type": "code",
      "source": [
        "s = '  Welcome TO  \\n\\&\\$\\@ JournalDev '\n",
        "ws = s.split()\n",
        "re_punc = re.compile('[%s]' % re.escape(string.punctuation))\n",
        "stripped = [re_punc.sub('', w) for w in ws]\n",
        "filter_Stripped = [w for w in stripped if w]\n",
        "print(filter_Stripped)\n"
      ],
      "metadata": {
        "colab": {
          "base_uri": "https://localhost:8080/"
        },
        "id": "kWLP2rNQwmqv",
        "outputId": "741c6cec-bc95-4256-a3a3-54d01df50ba9"
      },
      "execution_count": 8,
      "outputs": [
        {
          "output_type": "stream",
          "name": "stdout",
          "text": [
            "['Welcome', 'TO', 'JournalDev']\n"
          ]
        }
      ]
    },
    {
      "cell_type": "code",
      "metadata": {
        "id": "nlE9FFEXgDEs",
        "colab": {
          "base_uri": "https://localhost:8080/"
        },
        "outputId": "3cdfb816-928c-42cb-b356-333a5d7d792b"
      },
      "source": [
        "# string.printable inverse of string.punctuation\n",
        "re_print = re.compile('[^%s]' % re.escape(string.printable))\n",
        "result = [re_print.sub('', w) for w in words]\n",
        "print(result)\n"
      ],
      "execution_count": 9,
      "outputs": [
        {
          "output_type": "stream",
          "name": "stdout",
          "text": [
            "[\"I'm\", 'with', 'you', 'for', 'the', 'entire', 'life', 'in', '@U.K.!', '$']\n"
          ]
        }
      ]
    },
    {
      "cell_type": "code",
      "source": [
        " wr = result\n",
        " wr"
      ],
      "metadata": {
        "colab": {
          "base_uri": "https://localhost:8080/"
        },
        "id": "9VWb4gpW0Ryg",
        "outputId": "c334ca09-b8ec-4835-c94c-975248e44d6d"
      },
      "execution_count": 10,
      "outputs": [
        {
          "output_type": "execute_result",
          "data": {
            "text/plain": [
              "[\"I'm\", 'with', 'you', 'for', 'the', 'entire', 'life', 'in', '@U.K.!', '$']"
            ]
          },
          "metadata": {},
          "execution_count": 10
        }
      ]
    },
    {
      "cell_type": "code",
      "source": [
        "import string\n",
        "import re\n",
        "\n",
        "# define the regular expression pattern to keep letters, digits, spaces\n",
        "re_pattern = re.compile('[^a-zA-Z0-9 .]')"
      ],
      "metadata": {
        "id": "rDRS-N0W0Y9V"
      },
      "execution_count": 11,
      "outputs": []
    },
    {
      "cell_type": "code",
      "source": [
        "#apply the pattern to each  word and remove unwanted characters\n",
        "wr_1 = [re_pattern.sub('',w) for w  in wr]"
      ],
      "metadata": {
        "id": "yOJNX15b17u8"
      },
      "execution_count": 12,
      "outputs": []
    },
    {
      "cell_type": "code",
      "source": [
        "wr_1"
      ],
      "metadata": {
        "colab": {
          "base_uri": "https://localhost:8080/"
        },
        "id": "yxN3px442i0D",
        "outputId": "94d8b26c-764b-40ac-96cd-28bcd87e56d9"
      },
      "execution_count": 13,
      "outputs": [
        {
          "output_type": "execute_result",
          "data": {
            "text/plain": [
              "['Im', 'with', 'you', 'for', 'the', 'entire', 'life', 'in', 'U.K.', '']"
            ]
          },
          "metadata": {},
          "execution_count": 13
        }
      ]
    },
    {
      "cell_type": "code",
      "source": [
        "wr_1 = [w for w in wr_1 if w]\n",
        "wr_1"
      ],
      "metadata": {
        "colab": {
          "base_uri": "https://localhost:8080/"
        },
        "id": "z9CHE8J62qvB",
        "outputId": "451e8e86-1da2-49c8-fb68-85c51d1c7340"
      },
      "execution_count": 14,
      "outputs": [
        {
          "output_type": "execute_result",
          "data": {
            "text/plain": [
              "['Im', 'with', 'you', 'for', 'the', 'entire', 'life', 'in', 'U.K.']"
            ]
          },
          "metadata": {},
          "execution_count": 14
        }
      ]
    },
    {
      "cell_type": "code",
      "metadata": {
        "id": "Uf_8fwtrgDRT",
        "colab": {
          "base_uri": "https://localhost:8080/"
        },
        "outputId": "2a0e4548-78dc-45cf-ca74-588705dcf5ec"
      },
      "source": [
        "# Normalizing Case\n",
        "\n",
        "# split into words by white space\n",
        "words = text.split()\n",
        "# convert to lower case\n",
        "words = [word.lower() for word in words]\n",
        "print(words[:100])"
      ],
      "execution_count": 15,
      "outputs": [
        {
          "output_type": "stream",
          "name": "stdout",
          "text": [
            "[\"i'm\", 'with', 'you', 'for', 'the', 'entire', 'life', 'in', '@u.k.!', '$']\n"
          ]
        }
      ]
    },
    {
      "cell_type": "code",
      "metadata": {
        "id": "ZJ6IgZNmgDok",
        "colab": {
          "base_uri": "https://localhost:8080/",
          "height": 140
        },
        "outputId": "f34f0ef0-15ba-4743-af36-4f28f95e6f43"
      },
      "source": [
        "_____________________________ Working on Spacy _________________________\n",
        "\n",
        "# Install by https://spacy.io/usage/facts-figures#benchmarks\n",
        "# conda install -c conda-forge spacy\n",
        "# or\n",
        "# pip install -U spacy\n",
        "\n",
        "# Alternatively you can create a virtual environment:\n",
        "# conda create -n spacyenv python=3 spacy=2"
      ],
      "execution_count": 19,
      "outputs": [
        {
          "output_type": "error",
          "ename": "SyntaxError",
          "evalue": "ignored",
          "traceback": [
            "\u001b[0;36m  File \u001b[0;32m\"<ipython-input-19-8da7c1332583>\"\u001b[0;36m, line \u001b[0;32m1\u001b[0m\n\u001b[0;31m    _____________________________ Working on Spacy _________________________\u001b[0m\n\u001b[0m                                  ^\u001b[0m\n\u001b[0;31mSyntaxError\u001b[0m\u001b[0;31m:\u001b[0m invalid syntax\n"
          ]
        }
      ]
    },
    {
      "cell_type": "code",
      "metadata": {
        "id": "ND0h9KA5eirK"
      },
      "source": [
        "import spacy\n",
        "nlp = spacy.load('en_core_web_sm')"
      ],
      "execution_count": 20,
      "outputs": []
    },
    {
      "cell_type": "code",
      "metadata": {
        "id": "kMNC9Bg5em1H",
        "colab": {
          "base_uri": "https://localhost:8080/"
        },
        "outputId": "3b9edc2f-bdbf-4755-baff-df4962401525"
      },
      "source": [
        "string = '\"I\\'m with you for the entire life in U.K.!\"'\n",
        "print(string)"
      ],
      "execution_count": 21,
      "outputs": [
        {
          "output_type": "stream",
          "name": "stdout",
          "text": [
            "\"I'm with you for the entire life in U.K.!\"\n"
          ]
        }
      ]
    },
    {
      "cell_type": "code",
      "metadata": {
        "id": "7lBckJcXe0qH",
        "colab": {
          "base_uri": "https://localhost:8080/"
        },
        "outputId": "e77afa0b-ee8e-4888-9267-11bf4ac7f8ca"
      },
      "source": [
        "doc = nlp(string)\n",
        "for token in doc:\n",
        "   print(token.text, end=' |')\n",
        "   #print(doc)"
      ],
      "execution_count": 22,
      "outputs": [
        {
          "output_type": "stream",
          "name": "stdout",
          "text": [
            "\" |I |'m |with |you |for |the |entire |life |in |U.K. |! |\" |"
          ]
        }
      ]
    },
    {
      "cell_type": "code",
      "metadata": {
        "id": "sV4C5FwUe9AW",
        "colab": {
          "base_uri": "https://localhost:8080/"
        },
        "outputId": "5292e99c-8af9-4ed5-98ad-0e01b1ade22f"
      },
      "source": [
        "doc2 = nlp(\"We're here to help\")\n",
        "for t in doc2:\n",
        "    print(t.text, end= ' |')"
      ],
      "execution_count": 23,
      "outputs": [
        {
          "output_type": "stream",
          "name": "stdout",
          "text": [
            "We |'re |here |to |help |"
          ]
        }
      ]
    },
    {
      "cell_type": "code",
      "metadata": {
        "id": "HzJHS44WfRRW",
        "colab": {
          "base_uri": "https://localhost:8080/"
        },
        "outputId": "2cac9d8c-22f7-4247-c780-848f1adf279d"
      },
      "source": [
        "doc3 = nlp('A 5km NYC cab ride costs $10.30')\n",
        "for t in doc3:\n",
        "    print(t)"
      ],
      "execution_count": 24,
      "outputs": [
        {
          "output_type": "stream",
          "name": "stdout",
          "text": [
            "A\n",
            "5\n",
            "km\n",
            "NYC\n",
            "cab\n",
            "ride\n",
            "costs\n",
            "$\n",
            "10.30\n"
          ]
        }
      ]
    },
    {
      "cell_type": "code",
      "metadata": {
        "id": "c5Sg8JJsfdBF",
        "colab": {
          "base_uri": "https://localhost:8080/"
        },
        "outputId": "1d304b63-7f38-4ac7-f6f3-beb5da9c9377"
      },
      "source": [
        "doc4 = nlp(u\"Let's visit St. Louis in the U.S. next year.\")\n",
        "for t in doc4:\n",
        "    print(t)"
      ],
      "execution_count": 25,
      "outputs": [
        {
          "output_type": "stream",
          "name": "stdout",
          "text": [
            "Let\n",
            "'s\n",
            "visit\n",
            "St.\n",
            "Louis\n",
            "in\n",
            "the\n",
            "U.S.\n",
            "next\n",
            "year\n",
            ".\n"
          ]
        }
      ]
    },
    {
      "cell_type": "code",
      "metadata": {
        "id": "xkCo6hyBffhl",
        "colab": {
          "base_uri": "https://localhost:8080/"
        },
        "outputId": "b6339be0-4fe6-4c83-ef52-7dd443456dcd"
      },
      "source": [
        "len(doc)"
      ],
      "execution_count": 28,
      "outputs": [
        {
          "output_type": "execute_result",
          "data": {
            "text/plain": [
              "13"
            ]
          },
          "metadata": {},
          "execution_count": 28
        }
      ]
    },
    {
      "cell_type": "code",
      "metadata": {
        "id": "Gt_7rMkOfhmk",
        "colab": {
          "base_uri": "https://localhost:8080/"
        },
        "outputId": "8204e687-afd9-4ff7-fdbb-ab119f4e7c20"
      },
      "source": [
        "len(doc.vocab)"
      ],
      "execution_count": 27,
      "outputs": [
        {
          "output_type": "execute_result",
          "data": {
            "text/plain": [
              "788"
            ]
          },
          "metadata": {},
          "execution_count": 27
        }
      ]
    },
    {
      "cell_type": "code",
      "metadata": {
        "id": "wgwP4IoZfi-E",
        "colab": {
          "base_uri": "https://localhost:8080/"
        },
        "outputId": "73dd1d55-51ba-4e5e-c27a-c657d1641155"
      },
      "source": [
        "doc5 = nlp(u'It is better to give than to receive.')\n",
        "# Retrieve the third token:\n",
        "doc5[1:4]"
      ],
      "execution_count": 29,
      "outputs": [
        {
          "output_type": "execute_result",
          "data": {
            "text/plain": [
              "is better to"
            ]
          },
          "metadata": {},
          "execution_count": 29
        }
      ]
    },
    {
      "cell_type": "code",
      "source": [
        "import spacy"
      ],
      "metadata": {
        "id": "KGoWmezbtkiO"
      },
      "execution_count": 30,
      "outputs": []
    },
    {
      "cell_type": "code",
      "source": [
        "nlp = spacy.blank(\"en\")\n",
        "\n",
        "doc = nlp(\"Dr. Strange loves pav bhaji of mumbai as it costs only 2$ per plate.\")\n",
        "\n",
        "for token in doc:\n",
        "    print(token)"
      ],
      "metadata": {
        "id": "IhjPHKchtpKj",
        "colab": {
          "base_uri": "https://localhost:8080/"
        },
        "outputId": "3b5b486c-0935-44d0-bfac-21218e164b47"
      },
      "execution_count": 33,
      "outputs": [
        {
          "output_type": "stream",
          "name": "stdout",
          "text": [
            "Dr.\n",
            "Strange\n",
            "loves\n",
            "pav\n",
            "bhaji\n",
            "of\n",
            "mumbai\n",
            "as\n",
            "it\n",
            "costs\n",
            "only\n",
            "2\n",
            "$\n",
            "per\n",
            "plate\n",
            ".\n"
          ]
        }
      ]
    },
    {
      "cell_type": "code",
      "source": [
        "# Using index to grab tokens\n",
        "doc[0]"
      ],
      "metadata": {
        "id": "xhqRAcxIq9au",
        "colab": {
          "base_uri": "https://localhost:8080/"
        },
        "outputId": "130724c6-2bca-4866-9630-4128de9358f2"
      },
      "execution_count": 34,
      "outputs": [
        {
          "output_type": "execute_result",
          "data": {
            "text/plain": [
              "Dr."
            ]
          },
          "metadata": {},
          "execution_count": 34
        }
      ]
    },
    {
      "cell_type": "code",
      "source": [
        "token = doc[1]\n",
        "token.text"
      ],
      "metadata": {
        "id": "-De26VFDq9Wb",
        "colab": {
          "base_uri": "https://localhost:8080/",
          "height": 36
        },
        "outputId": "1d1f2a3c-08b9-4a89-e296-30b129f37afe"
      },
      "execution_count": 35,
      "outputs": [
        {
          "output_type": "execute_result",
          "data": {
            "text/plain": [
              "'Strange'"
            ],
            "application/vnd.google.colaboratory.intrinsic+json": {
              "type": "string"
            }
          },
          "metadata": {},
          "execution_count": 35
        }
      ]
    },
    {
      "cell_type": "code",
      "source": [
        "dir(token)"
      ],
      "metadata": {
        "id": "tc-F0HTpq9TS",
        "colab": {
          "base_uri": "https://localhost:8080/"
        },
        "outputId": "103843b5-db3f-48e6-a0ba-ec69fd3b711c"
      },
      "execution_count": 36,
      "outputs": [
        {
          "output_type": "execute_result",
          "data": {
            "text/plain": [
              "['_',\n",
              " '__bytes__',\n",
              " '__class__',\n",
              " '__delattr__',\n",
              " '__dir__',\n",
              " '__doc__',\n",
              " '__eq__',\n",
              " '__format__',\n",
              " '__ge__',\n",
              " '__getattribute__',\n",
              " '__gt__',\n",
              " '__hash__',\n",
              " '__init__',\n",
              " '__init_subclass__',\n",
              " '__le__',\n",
              " '__len__',\n",
              " '__lt__',\n",
              " '__ne__',\n",
              " '__new__',\n",
              " '__pyx_vtable__',\n",
              " '__reduce__',\n",
              " '__reduce_ex__',\n",
              " '__repr__',\n",
              " '__setattr__',\n",
              " '__sizeof__',\n",
              " '__str__',\n",
              " '__subclasshook__',\n",
              " '__unicode__',\n",
              " 'ancestors',\n",
              " 'check_flag',\n",
              " 'children',\n",
              " 'cluster',\n",
              " 'conjuncts',\n",
              " 'dep',\n",
              " 'dep_',\n",
              " 'doc',\n",
              " 'ent_id',\n",
              " 'ent_id_',\n",
              " 'ent_iob',\n",
              " 'ent_iob_',\n",
              " 'ent_kb_id',\n",
              " 'ent_kb_id_',\n",
              " 'ent_type',\n",
              " 'ent_type_',\n",
              " 'get_extension',\n",
              " 'has_dep',\n",
              " 'has_extension',\n",
              " 'has_head',\n",
              " 'has_morph',\n",
              " 'has_vector',\n",
              " 'head',\n",
              " 'i',\n",
              " 'idx',\n",
              " 'iob_strings',\n",
              " 'is_alpha',\n",
              " 'is_ancestor',\n",
              " 'is_ascii',\n",
              " 'is_bracket',\n",
              " 'is_currency',\n",
              " 'is_digit',\n",
              " 'is_left_punct',\n",
              " 'is_lower',\n",
              " 'is_oov',\n",
              " 'is_punct',\n",
              " 'is_quote',\n",
              " 'is_right_punct',\n",
              " 'is_sent_end',\n",
              " 'is_sent_start',\n",
              " 'is_space',\n",
              " 'is_stop',\n",
              " 'is_title',\n",
              " 'is_upper',\n",
              " 'lang',\n",
              " 'lang_',\n",
              " 'left_edge',\n",
              " 'lefts',\n",
              " 'lemma',\n",
              " 'lemma_',\n",
              " 'lex',\n",
              " 'lex_id',\n",
              " 'like_email',\n",
              " 'like_num',\n",
              " 'like_url',\n",
              " 'lower',\n",
              " 'lower_',\n",
              " 'morph',\n",
              " 'n_lefts',\n",
              " 'n_rights',\n",
              " 'nbor',\n",
              " 'norm',\n",
              " 'norm_',\n",
              " 'orth',\n",
              " 'orth_',\n",
              " 'pos',\n",
              " 'pos_',\n",
              " 'prefix',\n",
              " 'prefix_',\n",
              " 'prob',\n",
              " 'rank',\n",
              " 'remove_extension',\n",
              " 'right_edge',\n",
              " 'rights',\n",
              " 'sent',\n",
              " 'sent_start',\n",
              " 'sentiment',\n",
              " 'set_extension',\n",
              " 'set_morph',\n",
              " 'shape',\n",
              " 'shape_',\n",
              " 'similarity',\n",
              " 'subtree',\n",
              " 'suffix',\n",
              " 'suffix_',\n",
              " 'tag',\n",
              " 'tag_',\n",
              " 'tensor',\n",
              " 'text',\n",
              " 'text_with_ws',\n",
              " 'vector',\n",
              " 'vector_norm',\n",
              " 'vocab',\n",
              " 'whitespace_']"
            ]
          },
          "metadata": {},
          "execution_count": 36
        }
      ]
    },
    {
      "cell_type": "code",
      "source": [
        "type(nlp)"
      ],
      "metadata": {
        "id": "O6JCErAnq9NO",
        "colab": {
          "base_uri": "https://localhost:8080/"
        },
        "outputId": "e777a1b9-9775-4d44-a4c0-c6798d3de864"
      },
      "execution_count": 32,
      "outputs": [
        {
          "output_type": "execute_result",
          "data": {
            "text/plain": [
              "spacy.lang.en.English"
            ]
          },
          "metadata": {},
          "execution_count": 32
        }
      ]
    },
    {
      "cell_type": "code",
      "source": [
        "type(doc)"
      ],
      "metadata": {
        "id": "0kC5drfVq9Cv",
        "colab": {
          "base_uri": "https://localhost:8080/"
        },
        "outputId": "b38c3b56-ba08-42ef-c122-acadcae441dc"
      },
      "execution_count": 31,
      "outputs": [
        {
          "output_type": "execute_result",
          "data": {
            "text/plain": [
              "spacy.tokens.doc.Doc"
            ]
          },
          "metadata": {},
          "execution_count": 31
        }
      ]
    },
    {
      "cell_type": "code",
      "source": [
        "type(token)"
      ],
      "metadata": {
        "id": "3bqoVwOjq8qz",
        "colab": {
          "base_uri": "https://localhost:8080/"
        },
        "outputId": "476aa705-e3af-4c0c-a163-d9c9b7baea96"
      },
      "execution_count": 37,
      "outputs": [
        {
          "output_type": "execute_result",
          "data": {
            "text/plain": [
              "spacy.tokens.token.Token"
            ]
          },
          "metadata": {},
          "execution_count": 37
        }
      ]
    },
    {
      "cell_type": "code",
      "metadata": {
        "id": "OtyHwNwxflgF"
      },
      "source": [
        "nlp.pipe_names"
      ],
      "execution_count": null,
      "outputs": []
    },
    {
      "cell_type": "code",
      "metadata": {
        "id": "dQa1r-iWfnNE",
        "colab": {
          "base_uri": "https://localhost:8080/"
        },
        "outputId": "d731e4b4-43d2-42f7-d3d4-78d3af341d07"
      },
      "source": [
        "#Span object\n",
        "span = doc[0:5]\n",
        "span"
      ],
      "execution_count": 39,
      "outputs": [
        {
          "output_type": "execute_result",
          "data": {
            "text/plain": [
              "Dr. Strange loves pav bhaji"
            ]
          },
          "metadata": {},
          "execution_count": 39
        }
      ]
    },
    {
      "cell_type": "code",
      "metadata": {
        "id": "otu1NnvZfpiU",
        "colab": {
          "base_uri": "https://localhost:8080/"
        },
        "outputId": "3adcd373-894d-4787-fda9-a6cb164098e6"
      },
      "source": [
        "type(span)"
      ],
      "execution_count": 40,
      "outputs": [
        {
          "output_type": "execute_result",
          "data": {
            "text/plain": [
              "spacy.tokens.span.Span"
            ]
          },
          "metadata": {},
          "execution_count": 40
        }
      ]
    },
    {
      "cell_type": "code",
      "metadata": {
        "id": "6UNwsoHIfri0"
      },
      "source": [
        "# Token attributes\n",
        "doc = nlp(\"Tony gave two $ to Peter.\")"
      ],
      "execution_count": 41,
      "outputs": []
    },
    {
      "cell_type": "code",
      "source": [
        "# Token attributes\n",
        "doc = nlp(\"Jammu Kashmir is an integral part of India\")"
      ],
      "metadata": {
        "id": "cyIsvyfd5ok7"
      },
      "execution_count": 43,
      "outputs": []
    },
    {
      "cell_type": "code",
      "source": [
        "doc2 = nlp('Hey I have 2 thousand $. I will going to buy a phone')"
      ],
      "metadata": {
        "id": "U2mv80Dg7arg"
      },
      "execution_count": 48,
      "outputs": []
    },
    {
      "cell_type": "code",
      "metadata": {
        "id": "FAwFVwGAftIk",
        "colab": {
          "base_uri": "https://localhost:8080/"
        },
        "outputId": "2281b831-035f-48c8-a769-00d28af67257"
      },
      "source": [
        "token0 = doc2[0]\n",
        "token0"
      ],
      "execution_count": 53,
      "outputs": [
        {
          "output_type": "execute_result",
          "data": {
            "text/plain": [
              "Hey"
            ]
          },
          "metadata": {},
          "execution_count": 53
        }
      ]
    },
    {
      "cell_type": "code",
      "metadata": {
        "id": "sbba5DeCfvm0",
        "colab": {
          "base_uri": "https://localhost:8080/"
        },
        "outputId": "cf4fd62d-5ee0-430f-eeb4-bd45e21cd695"
      },
      "source": [
        "token0.is_alpha"
      ],
      "execution_count": 51,
      "outputs": [
        {
          "output_type": "execute_result",
          "data": {
            "text/plain": [
              "True"
            ]
          },
          "metadata": {},
          "execution_count": 51
        }
      ]
    },
    {
      "cell_type": "code",
      "metadata": {
        "id": "93CItEYtfx3U",
        "colab": {
          "base_uri": "https://localhost:8080/"
        },
        "outputId": "2a717d8f-6893-421e-8b2e-aa507988bf42"
      },
      "source": [
        "token0.like_num"
      ],
      "execution_count": 52,
      "outputs": [
        {
          "output_type": "execute_result",
          "data": {
            "text/plain": [
              "False"
            ]
          },
          "metadata": {},
          "execution_count": 52
        }
      ]
    },
    {
      "cell_type": "code",
      "metadata": {
        "id": "_I8g6wx0fz50",
        "colab": {
          "base_uri": "https://localhost:8080/"
        },
        "outputId": "ec2b2af5-3f91-4b59-9e9a-fa0cf8e28774"
      },
      "source": [
        "token2 = doc2[2]\n",
        "token2"
      ],
      "execution_count": 55,
      "outputs": [
        {
          "output_type": "execute_result",
          "data": {
            "text/plain": [
              "have"
            ]
          },
          "metadata": {},
          "execution_count": 55
        }
      ]
    },
    {
      "cell_type": "code",
      "metadata": {
        "id": "tQCHFOLIf1TD",
        "colab": {
          "base_uri": "https://localhost:8080/"
        },
        "outputId": "c52955d7-8ecc-4ee6-bbeb-47154352c671"
      },
      "source": [
        "token2.like_num"
      ],
      "execution_count": 56,
      "outputs": [
        {
          "output_type": "execute_result",
          "data": {
            "text/plain": [
              "False"
            ]
          },
          "metadata": {},
          "execution_count": 56
        }
      ]
    },
    {
      "cell_type": "code",
      "metadata": {
        "id": "YOFRWbWkf2jj",
        "colab": {
          "base_uri": "https://localhost:8080/"
        },
        "outputId": "f692fe02-fb09-4fb3-9518-45ff47e4eb1e"
      },
      "source": [
        "token3 = doc[3]\n",
        "token3"
      ],
      "execution_count": 57,
      "outputs": [
        {
          "output_type": "execute_result",
          "data": {
            "text/plain": [
              "an"
            ]
          },
          "metadata": {},
          "execution_count": 57
        }
      ]
    },
    {
      "cell_type": "code",
      "metadata": {
        "id": "31zs1BD1f4oj",
        "colab": {
          "base_uri": "https://localhost:8080/"
        },
        "outputId": "c8017262-927d-441a-ff19-82c4cda970e9"
      },
      "source": [
        "token3.like_num"
      ],
      "execution_count": 58,
      "outputs": [
        {
          "output_type": "execute_result",
          "data": {
            "text/plain": [
              "False"
            ]
          },
          "metadata": {},
          "execution_count": 58
        }
      ]
    },
    {
      "cell_type": "code",
      "source": [
        "token3.is_alpha"
      ],
      "metadata": {
        "id": "V4i0JepD3tm9",
        "colab": {
          "base_uri": "https://localhost:8080/"
        },
        "outputId": "3ed7989b-e15f-4177-d119-926bdf80d694"
      },
      "execution_count": 59,
      "outputs": [
        {
          "output_type": "execute_result",
          "data": {
            "text/plain": [
              "True"
            ]
          },
          "metadata": {},
          "execution_count": 59
        }
      ]
    },
    {
      "cell_type": "code",
      "metadata": {
        "id": "Cp9FS2jif6Mz",
        "colab": {
          "base_uri": "https://localhost:8080/"
        },
        "outputId": "635a0bfd-77c5-4291-a9e2-438717da7c17"
      },
      "source": [
        "token3.is_currency"
      ],
      "execution_count": 60,
      "outputs": [
        {
          "output_type": "execute_result",
          "data": {
            "text/plain": [
              "False"
            ]
          },
          "metadata": {},
          "execution_count": 60
        }
      ]
    },
    {
      "cell_type": "code",
      "source": [
        "#Tony gave two $ to Peter"
      ],
      "metadata": {
        "id": "6YZKISJz6EIf"
      },
      "execution_count": 61,
      "outputs": []
    },
    {
      "cell_type": "code",
      "metadata": {
        "id": "qebMmkQ_f8BD",
        "colab": {
          "base_uri": "https://localhost:8080/"
        },
        "outputId": "a06adfcf-8b86-48e6-e62c-8a8411904470"
      },
      "source": [
        "for token in doc:\n",
        "    print(token, \"==>\", \"index: \", token.i, \"is_alpha:\", token.is_alpha,\n",
        "          \"is_punct:\", token.is_punct,\n",
        "          \"like_num:\", token.like_num,\n",
        "          \"is_currency:\", token.is_currency,\n",
        "    )"
      ],
      "execution_count": 62,
      "outputs": [
        {
          "output_type": "stream",
          "name": "stdout",
          "text": [
            "Jammu ==> index:  0 is_alpha: True is_punct: False like_num: False is_currency: False\n",
            "Kashmir ==> index:  1 is_alpha: True is_punct: False like_num: False is_currency: False\n",
            "is ==> index:  2 is_alpha: True is_punct: False like_num: False is_currency: False\n",
            "an ==> index:  3 is_alpha: True is_punct: False like_num: False is_currency: False\n",
            "integral ==> index:  4 is_alpha: True is_punct: False like_num: False is_currency: False\n",
            "part ==> index:  5 is_alpha: True is_punct: False like_num: False is_currency: False\n",
            "of ==> index:  6 is_alpha: True is_punct: False like_num: False is_currency: False\n",
            "India ==> index:  7 is_alpha: True is_punct: False like_num: False is_currency: False\n"
          ]
        }
      ]
    },
    {
      "cell_type": "markdown",
      "source": [
        "Support in other languages"
      ],
      "metadata": {
        "id": "SJJF--CMZBqI"
      }
    },
    {
      "cell_type": "code",
      "source": [
        "nlp = spacy.blank(\"hi\")\n",
        "doc = nlp(\"भैया जी @ 5000 ₹ उधार थे वो वापस देदो\")\n",
        "for token in doc:\n",
        "    print(token, token.is_alpha)"
      ],
      "metadata": {
        "id": "TROdKP5zY_5S",
        "colab": {
          "base_uri": "https://localhost:8080/"
        },
        "outputId": "3db6f803-c023-42bc-e9ea-b5233cade7e9"
      },
      "execution_count": 63,
      "outputs": [
        {
          "output_type": "stream",
          "name": "stdout",
          "text": [
            "भैया False\n",
            "जी False\n",
            "@ False\n",
            "5000 False\n",
            "₹ False\n",
            "उधार False\n",
            "थे False\n",
            "वो False\n",
            "वापस False\n",
            "देदो False\n"
          ]
        }
      ]
    },
    {
      "cell_type": "code",
      "source": [
        "from spacy.symbols import ORTH\n",
        "\n",
        "nlp = spacy.blank(\"en\")\n",
        "doc = nlp(\"gimme double cheese extra large healthy pizza\")\n",
        "tokens = [token.text for token in doc]\n",
        "tokens"
      ],
      "metadata": {
        "id": "Wfqft4l-ZQgD",
        "colab": {
          "base_uri": "https://localhost:8080/"
        },
        "outputId": "0c42dae0-fed0-4fc5-a935-748d347a4ee5"
      },
      "execution_count": 64,
      "outputs": [
        {
          "output_type": "execute_result",
          "data": {
            "text/plain": [
              "['gimme', 'double', 'cheese', 'extra', 'large', 'healthy', 'pizza']"
            ]
          },
          "metadata": {},
          "execution_count": 64
        }
      ]
    },
    {
      "cell_type": "code",
      "source": [
        "nlp.tokenizer.add_special_case(\"gimme\", [\n",
        "    {ORTH: \"gim\"},\n",
        "    {ORTH: \"me\"},\n",
        "])\n",
        "doc = nlp(\"gimme double cheese extra large healthy pizza\")\n",
        "tokens = [token.text for token in doc]\n",
        "tokens"
      ],
      "metadata": {
        "id": "Bh7QtQhqZTzx",
        "colab": {
          "base_uri": "https://localhost:8080/"
        },
        "outputId": "251e8e7d-534d-4569-a774-c8613a14fd8b"
      },
      "execution_count": 65,
      "outputs": [
        {
          "output_type": "execute_result",
          "data": {
            "text/plain": [
              "['gim', 'me', 'double', 'cheese', 'extra', 'large', 'healthy', 'pizza']"
            ]
          },
          "metadata": {},
          "execution_count": 65
        }
      ]
    },
    {
      "cell_type": "markdown",
      "source": [
        "Sentence Tokenization or Segmentation"
      ],
      "metadata": {
        "id": "RpZhRrKJZZgq"
      }
    },
    {
      "cell_type": "code",
      "source": [
        "doc = nlp(\"Dr. Strange loves pav bhaji of mumbai. Hulk loves chat of delhi\")\n",
        "for sentence in doc:\n",
        "    print(sentence)"
      ],
      "metadata": {
        "id": "ufjG7-xDZW4p",
        "colab": {
          "base_uri": "https://localhost:8080/"
        },
        "outputId": "223331fd-1b4c-407d-9dbe-bb6a77368110"
      },
      "execution_count": 66,
      "outputs": [
        {
          "output_type": "stream",
          "name": "stdout",
          "text": [
            "Dr.\n",
            "Strange\n",
            "loves\n",
            "pav\n",
            "bhaji\n",
            "of\n",
            "mumbai\n",
            ".\n",
            "Hulk\n",
            "loves\n",
            "chat\n",
            "of\n",
            "delhi\n"
          ]
        }
      ]
    },
    {
      "cell_type": "code",
      "source": [
        "nlp.pipeline"
      ],
      "metadata": {
        "id": "v4ZeYCtsZuyZ",
        "colab": {
          "base_uri": "https://localhost:8080/"
        },
        "outputId": "98eab9d7-adc2-4d58-c611-82b5ec451336"
      },
      "execution_count": 67,
      "outputs": [
        {
          "output_type": "execute_result",
          "data": {
            "text/plain": [
              "[]"
            ]
          },
          "metadata": {},
          "execution_count": 67
        }
      ]
    },
    {
      "cell_type": "code",
      "source": [
        "nlp.add_pipe('sentencizer')"
      ],
      "metadata": {
        "id": "m1HKNJ3qZzTP",
        "colab": {
          "base_uri": "https://localhost:8080/"
        },
        "outputId": "3309c960-5b85-47a8-a67a-d961a47eb6db"
      },
      "execution_count": 68,
      "outputs": [
        {
          "output_type": "execute_result",
          "data": {
            "text/plain": [
              "<spacy.pipeline.sentencizer.Sentencizer at 0x7af1b0bbbd80>"
            ]
          },
          "metadata": {},
          "execution_count": 68
        }
      ]
    },
    {
      "cell_type": "code",
      "source": [
        "doc = nlp(\"Dr. Strange loves pav bhaji of mumbai. Hulk loves chat of delhi\")\n",
        "for sentence in doc.sents:\n",
        "    print(sentence)"
      ],
      "metadata": {
        "id": "prKOZWwHZ2sd",
        "colab": {
          "base_uri": "https://localhost:8080/"
        },
        "outputId": "7b61770d-e63c-43a8-9efa-39279c3d1684"
      },
      "execution_count": 69,
      "outputs": [
        {
          "output_type": "stream",
          "name": "stdout",
          "text": [
            "Dr. Strange loves pav bhaji of mumbai.\n",
            "Hulk loves chat of delhi\n"
          ]
        }
      ]
    },
    {
      "cell_type": "code",
      "source": [
        "nlp.pipeline"
      ],
      "metadata": {
        "id": "gjyIQpVUZ7fL",
        "colab": {
          "base_uri": "https://localhost:8080/"
        },
        "outputId": "c6e53ab1-c7f4-4511-bdaa-f28116fe4a42"
      },
      "execution_count": 70,
      "outputs": [
        {
          "output_type": "execute_result",
          "data": {
            "text/plain": [
              "[('sentencizer', <spacy.pipeline.sentencizer.Sentencizer at 0x7af1b0bbbd80>)]"
            ]
          },
          "metadata": {},
          "execution_count": 70
        }
      ]
    },
    {
      "cell_type": "markdown",
      "source": [
        "**Stemming in NLTK**"
      ],
      "metadata": {
        "id": "AaBTPw4taGad"
      }
    },
    {
      "cell_type": "code",
      "source": [
        "from nltk.stem import PorterStemmer\n",
        "stemmer = PorterStemmer()"
      ],
      "metadata": {
        "id": "Dhl1RXUCaJ9q"
      },
      "execution_count": 71,
      "outputs": []
    },
    {
      "cell_type": "code",
      "source": [
        "words = [\"eating\", \"eats\", \"eat\", \"ate\", \"adjustable\", \"rafting\", \"ability\", \"meeting\" ,\"Reading\", \"Playing\"]\n",
        "\n",
        "for word in words:\n",
        "    print(word, \"|\", stemmer.stem(word))"
      ],
      "metadata": {
        "id": "6auI8byqaMBy",
        "colab": {
          "base_uri": "https://localhost:8080/"
        },
        "outputId": "f20b4a7b-043e-4bd4-bae9-c0e28df1e439"
      },
      "execution_count": 74,
      "outputs": [
        {
          "output_type": "stream",
          "name": "stdout",
          "text": [
            "eating | eat\n",
            "eats | eat\n",
            "eat | eat\n",
            "ate | ate\n",
            "adjustable | adjust\n",
            "rafting | raft\n",
            "ability | abil\n",
            "meeting | meet\n",
            "Reading | read\n",
            "Playing | play\n"
          ]
        }
      ]
    },
    {
      "cell_type": "markdown",
      "source": [
        "**Lemmatization in Spacy**"
      ],
      "metadata": {
        "id": "tIiyHVlUaSV2"
      }
    },
    {
      "cell_type": "code",
      "source": [
        "import spacy\n",
        "nlp = spacy.load(\"en_core_web_sm\")\n",
        "\n",
        "#doc = nlp(\"Mando talked for 3 hours although talking isn't his thing\")\n",
        "doc = nlp(\"eating eats eat ate adjustable rafting ability meeting better good nice worth coming went luck\")\n",
        "for token in doc:\n",
        "    print(token, \" | \", token.lemma_)"
      ],
      "metadata": {
        "id": "ymZnOcDEaUmx",
        "colab": {
          "base_uri": "https://localhost:8080/"
        },
        "outputId": "5212db0c-e025-42d2-c872-1fa01ff4d24b"
      },
      "execution_count": 81,
      "outputs": [
        {
          "output_type": "stream",
          "name": "stdout",
          "text": [
            "eating  |  eat\n",
            "eats  |  eat\n",
            "eat  |  eat\n",
            "ate  |  eat\n",
            "adjustable  |  adjustable\n",
            "rafting  |  raft\n",
            "ability  |  ability\n",
            "meeting  |  meeting\n",
            "better  |  well\n",
            "good  |  good\n",
            "nice  |  nice\n",
            "worth  |  worth\n",
            "coming  |  come\n",
            "went  |  go\n",
            "luck  |  luck\n"
          ]
        }
      ]
    },
    {
      "cell_type": "markdown",
      "source": [
        "Customizing lemmatizer"
      ],
      "metadata": {
        "id": "JcNq06RHab9u"
      }
    },
    {
      "cell_type": "code",
      "source": [
        "nlp.pipe_names"
      ],
      "metadata": {
        "id": "6_i5Tq6eaQHp",
        "colab": {
          "base_uri": "https://localhost:8080/"
        },
        "outputId": "b9e59f49-5e75-48e7-e0a0-58c7e60c798e"
      },
      "execution_count": 82,
      "outputs": [
        {
          "output_type": "execute_result",
          "data": {
            "text/plain": [
              "['tok2vec', 'tagger', 'parser', 'attribute_ruler', 'lemmatizer', 'ner']"
            ]
          },
          "metadata": {},
          "execution_count": 82
        }
      ]
    },
    {
      "cell_type": "code",
      "source": [
        "ar = nlp.get_pipe('attribute_ruler')\n",
        "\n",
        "ar.add([[{\"TEXT\":\"Bro\"}],[{\"TEXT\":\"Brah\"}]],{\"LEMMA\":\"Brother\"})\n",
        "ar.add([[{\"TEXT\":\"chalo\"}]],{\"LEMMA\":\"go\"})\n",
        "\n",
        "doc = nlp(\"Bro, you wanna go? Brah, don't say no! I am exhausted, let's chalo\")\n",
        "for token in doc:\n",
        "    print(token.text, \"|\", token.lemma_)"
      ],
      "metadata": {
        "id": "pdxo2PUCahRN"
      },
      "execution_count": null,
      "outputs": []
    },
    {
      "cell_type": "code",
      "source": [
        "doc[6]"
      ],
      "metadata": {
        "id": "mp9JLEVZamt_"
      },
      "execution_count": null,
      "outputs": []
    },
    {
      "cell_type": "code",
      "source": [
        "doc[6].lemma_"
      ],
      "metadata": {
        "id": "JowknlX2anRr"
      },
      "execution_count": null,
      "outputs": []
    },
    {
      "cell_type": "code",
      "source": [
        "path = '/content/students.txt'"
      ],
      "metadata": {
        "id": "v4v5DnYcBop3"
      },
      "execution_count": null,
      "outputs": []
    },
    {
      "cell_type": "code",
      "source": [
        "with open(path, 'r') as f:\n",
        "  print(f.read())"
      ],
      "metadata": {
        "id": "NwrpPcS2BtaF"
      },
      "execution_count": null,
      "outputs": []
    },
    {
      "cell_type": "code",
      "source": [
        "with open('/content/students.txt', 'r') as f:\n",
        "  text = f.readlines()"
      ],
      "metadata": {
        "id": "sRy9tlXjB7F5"
      },
      "execution_count": null,
      "outputs": []
    },
    {
      "cell_type": "code",
      "source": [
        "text"
      ],
      "metadata": {
        "id": "eaeNk9J6CPW5"
      },
      "execution_count": null,
      "outputs": []
    },
    {
      "cell_type": "code",
      "source": [
        "text = \" \".join(text)\n",
        "text"
      ],
      "metadata": {
        "id": "ryU-7yHZCZsT"
      },
      "execution_count": null,
      "outputs": []
    },
    {
      "cell_type": "code",
      "source": [
        "doc = nlp(text)\n",
        "emails = []\n",
        "for token in doc:\n",
        "  if token.like_email:\n",
        "    emails.append(token.text)\n",
        "\n",
        "emails"
      ],
      "metadata": {
        "id": "mBbPTc2GC2S3"
      },
      "execution_count": null,
      "outputs": []
    },
    {
      "cell_type": "markdown",
      "source": [
        "POS tags\n"
      ],
      "metadata": {
        "id": "QPGAnOMUqH81"
      }
    },
    {
      "cell_type": "code",
      "source": [
        "import spacy"
      ],
      "metadata": {
        "id": "Wru9vmckDUOF"
      },
      "execution_count": null,
      "outputs": []
    },
    {
      "cell_type": "code",
      "source": [
        "nlp = spacy.load(\"en_core_web_sm\")\n",
        "doc = nlp(\"Elon flew to mars yesterday. He carried biryani masala with him\")\n",
        "\n",
        "for token in doc:\n",
        "    print(token,\" | \", token.pos_, \" | \", spacy.explain(token.pos_))"
      ],
      "metadata": {
        "id": "rMjsmTdJqJyV"
      },
      "execution_count": null,
      "outputs": []
    },
    {
      "cell_type": "code",
      "source": [
        "doc = nlp(\"Wow! Dr. Strange made 265 million $ on the very first day\")\n",
        "\n",
        "for token in doc:\n",
        "    print(token,\" | \", token.pos_, \" | \", spacy.explain(token.pos_))"
      ],
      "metadata": {
        "id": "DMzixcc1qmoa"
      },
      "execution_count": null,
      "outputs": []
    },
    {
      "cell_type": "markdown",
      "source": [
        "Tags"
      ],
      "metadata": {
        "id": "O-_1c326qp7O"
      }
    },
    {
      "cell_type": "code",
      "source": [
        "doc = nlp(\"Wow! Dr. Strange made 265 million $ on the very first day\")\n",
        "\n",
        "for token in doc:\n",
        "    print(token,\" | \", token.pos_, \" | \", spacy.explain(token.pos_), \" | \", token.tag_, \" | \", spacy.explain(token.tag_))"
      ],
      "metadata": {
        "id": "54d9GA78qqur"
      },
      "execution_count": null,
      "outputs": []
    },
    {
      "cell_type": "markdown",
      "source": [
        "In below sentences Spacy figures out the past vs present tense for quit"
      ],
      "metadata": {
        "id": "h38Tsr0xqx5z"
      }
    },
    {
      "cell_type": "code",
      "source": [
        "doc = nlp(\"He quits the job\")\n",
        "\n",
        "for token in doc:\n",
        "    print(token,\" | \", token.pos_, \" | \", spacy.explain(token.pos_), \" | \", token.tag_, \" | \", spacy.explain(token.tag_))\n"
      ],
      "metadata": {
        "id": "LQw0_0D-PxSv"
      },
      "execution_count": null,
      "outputs": []
    },
    {
      "cell_type": "code",
      "source": [
        "doc = nlp(\"He quits the job\")\n",
        "\n",
        "print(doc[1].text, \"|\", doc[1].tag_, \"|\", spacy.explain(doc[1].tag_))"
      ],
      "metadata": {
        "id": "xTm_yj9zqxdF"
      },
      "execution_count": null,
      "outputs": []
    },
    {
      "cell_type": "code",
      "source": [
        "doc = nlp(\"he quit the job\")\n",
        "\n",
        "print(doc[1].text, \"|\", doc[1].tag_, \"|\", spacy.explain(doc[1].tag_))"
      ],
      "metadata": {
        "id": "qm-IyfPsq4lM"
      },
      "execution_count": null,
      "outputs": []
    },
    {
      "cell_type": "markdown",
      "source": [
        "Removing all SPACE, PUNCT and X token from text\n",
        "Processing microsoft's earning report: https://www.microsoft.com/en-us/investor/earnings/fy-2022-q2/press-release-webcast\n"
      ],
      "metadata": {
        "id": "IVdCltAiq_MW"
      }
    },
    {
      "cell_type": "code",
      "source": [
        "earnings_text=\"\"\"Microsoft Corp. today announced the following results for the quarter ended December 31, 2021, as compared to the corresponding period of last fiscal year:\n",
        "\n",
        "·         Revenue was $51.7 billion and increased 20%\n",
        "·         Operating income was $22.2 billion and increased 24%\n",
        "·         Net income was $18.8 billion and increased 21%\n",
        "·         Diluted earnings per share was $2.48 and increased 22%\n",
        "“Digital technology is the most malleable resource at the world’s disposal to overcome constraints and reimagine everyday work and life,” said Satya Nadella, chairman and chief executive officer of Microsoft. “As tech as a percentage of global GDP continues to increase, we are innovating and investing across diverse and growing markets, with a common underlying technology stack and an operating model that reinforces a common strategy, culture, and sense of purpose.”\n",
        "“Solid commercial execution etc, represented by strong bookings growth driven by long-term Azure commitments, increased Microsoft Cloud revenue to $22.1 billion, up 32% year over year” said Amy Hood, executive vice president and chief financial officer of Microsoft.\"\"\"\n",
        "\n",
        "doc = nlp(earnings_text)\n",
        "\n"
      ],
      "metadata": {
        "id": "YkYxyj8VrAtu"
      },
      "execution_count": null,
      "outputs": []
    },
    {
      "cell_type": "code",
      "source": [
        "for token in doc:\n",
        "    print(token,\" | \", token.pos_, \" | \", spacy.explain(token.pos_), \" | \", token.tag_, \" | \", spacy.explain(token.tag_))\n"
      ],
      "metadata": {
        "id": "xXiN4fqNAoYW"
      },
      "execution_count": null,
      "outputs": []
    },
    {
      "cell_type": "code",
      "source": [
        "filtered_tokens = []\n",
        "\n",
        "for token in doc:\n",
        "    if token.pos_ not in [\"SPACE\", \"PUNCT\", \"X\"]:\n",
        "        filtered_tokens.append(token)"
      ],
      "metadata": {
        "id": "5O6HMIVQQbbh"
      },
      "execution_count": null,
      "outputs": []
    },
    {
      "cell_type": "code",
      "source": [
        "filtered_tokens[:20]"
      ],
      "metadata": {
        "id": "RiwwfLhdrGhG"
      },
      "execution_count": null,
      "outputs": []
    },
    {
      "cell_type": "code",
      "source": [
        "count = doc.count_by(spacy.attrs.POS)\n",
        "count"
      ],
      "metadata": {
        "id": "F0iDsuOGri2n"
      },
      "execution_count": null,
      "outputs": []
    },
    {
      "cell_type": "code",
      "source": [
        "doc.vocab[89].text"
      ],
      "metadata": {
        "id": "R-6ObxWArkwC"
      },
      "execution_count": null,
      "outputs": []
    },
    {
      "cell_type": "code",
      "source": [
        "for k,v in count.items():\n",
        "    print(doc.vocab[k].text, \"|\",v)"
      ],
      "metadata": {
        "id": "dEx-r32XrpOt"
      },
      "execution_count": null,
      "outputs": []
    },
    {
      "cell_type": "markdown",
      "source": [
        "Named Entity Recognition (NER)\n",
        "import spacy"
      ],
      "metadata": {
        "id": "bTd_oSxpskyF"
      }
    },
    {
      "cell_type": "code",
      "source": [
        "import spacy"
      ],
      "metadata": {
        "id": "iGbsmfXNsq-H"
      },
      "execution_count": null,
      "outputs": []
    },
    {
      "cell_type": "code",
      "source": [
        "nlp = spacy.load(\"en_core_web_sm\")\n",
        "nlp.pipe_names"
      ],
      "metadata": {
        "id": "4tyWNaIQssbv"
      },
      "execution_count": null,
      "outputs": []
    },
    {
      "cell_type": "code",
      "source": [
        "doc = nlp(\"Tesla Inc is going to acquire twitter for $45 billion\")\n",
        "for ent in doc.ents:\n",
        "    print(ent.text, \" | \", ent.label_, \" | \", spacy.explain(ent.label_))"
      ],
      "metadata": {
        "id": "cEcV_QtBrs-W"
      },
      "execution_count": null,
      "outputs": []
    },
    {
      "cell_type": "code",
      "source": [
        "from spacy import displacy\n",
        "\n",
        "displacy.render(doc, style=\"ent\")"
      ],
      "metadata": {
        "id": "na4xKelrsuK3"
      },
      "execution_count": null,
      "outputs": []
    },
    {
      "cell_type": "markdown",
      "source": [
        "List down all the entities"
      ],
      "metadata": {
        "id": "-aV8IFvEsz7K"
      }
    },
    {
      "cell_type": "code",
      "source": [
        "nlp.pipe_labels['ner']"
      ],
      "metadata": {
        "id": "I6tIrD36szqA"
      },
      "execution_count": null,
      "outputs": []
    },
    {
      "cell_type": "code",
      "source": [
        "doc = nlp(\"Michael Bloomberg founded Bloomberg in 1982\")\n",
        "for ent in doc.ents:\n",
        "    print(ent.text, \"|\", ent.label_, \"|\", spacy.explain(ent.label_))"
      ],
      "metadata": {
        "id": "OYDkiJPgsxC-"
      },
      "execution_count": null,
      "outputs": []
    },
    {
      "cell_type": "code",
      "source": [
        "doc = nlp(\"Tesla Inc is going to acquire Twitter Inc for $45 billion\")\n",
        "for ent in doc.ents:\n",
        "    print(ent.text, \" | \", ent.label_, \" | \", ent.start_char, \"|\", ent.end_char)"
      ],
      "metadata": {
        "id": "gHhMz0Css6mQ"
      },
      "execution_count": null,
      "outputs": []
    },
    {
      "cell_type": "markdown",
      "source": [
        "Setting custom entities"
      ],
      "metadata": {
        "id": "SQs4kLohs84O"
      }
    },
    {
      "cell_type": "code",
      "source": [
        "doc = nlp(\"Tesla is going to acquire Twitter for $45 billion\")\n",
        "for ent in doc.ents:\n",
        "    print(ent.text, \" | \", ent.label_)"
      ],
      "metadata": {
        "id": "D8dMxA7js-mt"
      },
      "execution_count": null,
      "outputs": []
    },
    {
      "cell_type": "code",
      "source": [
        "s = doc[2:5]\n",
        "s"
      ],
      "metadata": {
        "id": "UdS_jR7-tArc"
      },
      "execution_count": null,
      "outputs": []
    },
    {
      "cell_type": "code",
      "source": [
        "type(s)"
      ],
      "metadata": {
        "id": "PMWcpRKktCfn"
      },
      "execution_count": null,
      "outputs": []
    },
    {
      "cell_type": "code",
      "source": [
        "\n",
        "from spacy.tokens import Span\n",
        "\n",
        "s1 = Span(doc, 0, 1, label=\"ORG\")\n",
        "s2 = Span(doc, 5, 6, label=\"ORG\")\n",
        "\n",
        "doc.set_ents([s1, s2], default=\"unmodified\")"
      ],
      "metadata": {
        "id": "QVpqGKIrtEXE"
      },
      "execution_count": null,
      "outputs": []
    },
    {
      "cell_type": "code",
      "source": [
        "for ent in doc.ents:\n",
        "    print(ent.text, \" | \", ent.label_)"
      ],
      "metadata": {
        "id": "CmDoRzqvtIEt"
      },
      "execution_count": null,
      "outputs": []
    },
    {
      "cell_type": "markdown",
      "source": [
        "Text Representation - Bag Of Words (BOW)"
      ],
      "metadata": {
        "id": "U_AueuWZtfP3"
      }
    },
    {
      "cell_type": "code",
      "source": [
        "import pandas as pd\n",
        "import numpy as np"
      ],
      "metadata": {
        "id": "AKjQtqdXthSH"
      },
      "execution_count": null,
      "outputs": []
    },
    {
      "cell_type": "code",
      "source": [
        "from google.colab import files\n",
        "\n",
        "uploaded = files.upload()\n",
        "\n",
        "for fn in uploaded.keys():\n",
        "  print('User uploaded file \"{name}\" with length {length} bytes'.format(\n",
        "      name=fn, length=len(uploaded[fn])))"
      ],
      "metadata": {
        "id": "O9RIw3JuuMEw"
      },
      "execution_count": null,
      "outputs": []
    },
    {
      "cell_type": "code",
      "source": [
        "import pandas as pd\n",
        "import io\n",
        "df=pd.read_csv(io.StringIO(uploaded['spam.csv'].decode('latin1')))\n",
        "df.head()"
      ],
      "metadata": {
        "id": "96KeSNYpuP8M"
      },
      "execution_count": null,
      "outputs": []
    },
    {
      "cell_type": "code",
      "source": [
        "df.v1.value_counts()"
      ],
      "metadata": {
        "id": "eh5BOz7auUO2"
      },
      "execution_count": null,
      "outputs": []
    },
    {
      "cell_type": "code",
      "source": [
        "df['spam'] = df['v1'].apply(lambda x: 1 if x =='spam' else 0)"
      ],
      "metadata": {
        "id": "N_DUvZ1cuZyD"
      },
      "execution_count": null,
      "outputs": []
    },
    {
      "cell_type": "code",
      "source": [
        "df.shape"
      ],
      "metadata": {
        "id": "f1PCuiWKucYP"
      },
      "execution_count": null,
      "outputs": []
    },
    {
      "cell_type": "code",
      "source": [
        "df.head()"
      ],
      "metadata": {
        "id": "hU28rrkXufO3"
      },
      "execution_count": null,
      "outputs": []
    },
    {
      "cell_type": "markdown",
      "source": [
        "Train test split"
      ],
      "metadata": {
        "id": "EQEsXjjRuhYW"
      }
    },
    {
      "cell_type": "code",
      "source": [
        "from sklearn.model_selection import train_test_split\n",
        "\n",
        "X_train, X_test, y_train, y_test = train_test_split(df.v2, df.spam, test_size=0.2)"
      ],
      "metadata": {
        "id": "v3p76aUeug4J"
      },
      "execution_count": null,
      "outputs": []
    },
    {
      "cell_type": "code",
      "source": [
        "X_train.shape"
      ],
      "metadata": {
        "id": "Jf7AquwdukrY"
      },
      "execution_count": null,
      "outputs": []
    },
    {
      "cell_type": "code",
      "source": [
        "X_test.shape"
      ],
      "metadata": {
        "id": "dk-dz5PCumJm"
      },
      "execution_count": null,
      "outputs": []
    },
    {
      "cell_type": "code",
      "source": [
        "type(X_train)"
      ],
      "metadata": {
        "id": "meLO2KaiuoKJ"
      },
      "execution_count": null,
      "outputs": []
    },
    {
      "cell_type": "code",
      "source": [
        "X_train[:4]"
      ],
      "metadata": {
        "id": "PsHohAC-upuu"
      },
      "execution_count": null,
      "outputs": []
    },
    {
      "cell_type": "code",
      "source": [
        "X_train[:4][3997]"
      ],
      "metadata": {
        "id": "0x5sYGD1XBxe"
      },
      "execution_count": null,
      "outputs": []
    },
    {
      "cell_type": "code",
      "source": [
        "type(y_train)"
      ],
      "metadata": {
        "id": "evKhF8QVurdV"
      },
      "execution_count": null,
      "outputs": []
    },
    {
      "cell_type": "code",
      "source": [
        "y_train[:4]"
      ],
      "metadata": {
        "id": "G_ssBqyoutR0"
      },
      "execution_count": null,
      "outputs": []
    },
    {
      "cell_type": "code",
      "source": [
        "type(X_train.values)"
      ],
      "metadata": {
        "id": "zb4613VDuuuA"
      },
      "execution_count": null,
      "outputs": []
    },
    {
      "cell_type": "markdown",
      "source": [
        "Create bag of words representation using CountVectorizer"
      ],
      "metadata": {
        "id": "WLyaae86uwmX"
      }
    },
    {
      "cell_type": "code",
      "source": [
        "from sklearn.feature_extraction.text import CountVectorizer\n",
        "\n",
        "v = CountVectorizer()\n",
        "\n",
        "X_train_cv = v.fit_transform(X_train.values)\n",
        "X_train_cv"
      ],
      "metadata": {
        "id": "_tI88AHfuwSk"
      },
      "execution_count": null,
      "outputs": []
    },
    {
      "cell_type": "code",
      "source": [
        "X_train_cv.toarray()[:2][0]"
      ],
      "metadata": {
        "id": "BWSpgodru11d"
      },
      "execution_count": null,
      "outputs": []
    },
    {
      "cell_type": "code",
      "source": [
        "X_train_cv.shape"
      ],
      "metadata": {
        "id": "vYo1rkUlu3oK"
      },
      "execution_count": null,
      "outputs": []
    },
    {
      "cell_type": "code",
      "source": [
        "v.get_feature_names_out()[2293]"
      ],
      "metadata": {
        "id": "Vrm897G0u5kf"
      },
      "execution_count": null,
      "outputs": []
    },
    {
      "cell_type": "code",
      "source": [
        "v.vocabulary_"
      ],
      "metadata": {
        "id": "Kx40H_Syu7UA"
      },
      "execution_count": null,
      "outputs": []
    },
    {
      "cell_type": "code",
      "source": [
        "X_train_np = X_train_cv.toarray()\n",
        "X_train_np[0]"
      ],
      "metadata": {
        "id": "zZU0ie7Gu81m"
      },
      "execution_count": null,
      "outputs": []
    },
    {
      "cell_type": "code",
      "source": [
        "np.where(X_train_np[0]!=0)"
      ],
      "metadata": {
        "id": "eB5_rXQ6u-Q1"
      },
      "execution_count": null,
      "outputs": []
    },
    {
      "cell_type": "code",
      "source": [
        "X_train[:4][3595]"
      ],
      "metadata": {
        "id": "CRvqLlJXvBU_"
      },
      "execution_count": null,
      "outputs": []
    },
    {
      "cell_type": "code",
      "source": [
        "X_train_np[0][3004]"
      ],
      "metadata": {
        "id": "fjCsXVHIvHph"
      },
      "execution_count": null,
      "outputs": []
    },
    {
      "cell_type": "markdown",
      "source": [
        "Train the naive bayes model"
      ],
      "metadata": {
        "id": "TD4wwdKavKaM"
      }
    },
    {
      "cell_type": "code",
      "source": [
        "from sklearn.naive_bayes import MultinomialNB\n",
        "\n",
        "model = MultinomialNB()\n",
        "model.fit(X_train_cv, y_train)\n"
      ],
      "metadata": {
        "id": "WWz0-VX-vMzv"
      },
      "execution_count": null,
      "outputs": []
    },
    {
      "cell_type": "code",
      "source": [
        "X_test_cv = v.transform(X_test)"
      ],
      "metadata": {
        "id": "LwYf5t20vQL5"
      },
      "execution_count": null,
      "outputs": []
    },
    {
      "cell_type": "markdown",
      "source": [
        "Evaluate Performance"
      ],
      "metadata": {
        "id": "8t4toF6zvT3R"
      }
    },
    {
      "cell_type": "code",
      "source": [
        "from sklearn.metrics import classification_report\n",
        "\n",
        "y_pred = model.predict(X_test_cv)\n",
        "\n",
        "print(classification_report(y_test, y_pred))"
      ],
      "metadata": {
        "id": "BwIktfCTvTdW"
      },
      "execution_count": null,
      "outputs": []
    },
    {
      "cell_type": "code",
      "source": [
        "emails = [\n",
        "    'Hey mohan, can we get together to watch footbal game tomorrow?',\n",
        "    'Upto 20% discount on parking, exclusive offer just for you. Dont miss this reward!'\n",
        "]\n",
        "\n",
        "emails_count = v.transform(emails)\n",
        "model.predict(emails_count)"
      ],
      "metadata": {
        "id": "WeE2l1wvvX7D"
      },
      "execution_count": null,
      "outputs": []
    },
    {
      "cell_type": "markdown",
      "source": [
        "Train the model using sklearn pipeline and reduce number of lines of code"
      ],
      "metadata": {
        "id": "9mjswc6nvZ1n"
      }
    },
    {
      "cell_type": "code",
      "source": [
        "from sklearn.pipeline import Pipeline\n",
        "\n",
        "clf = Pipeline([\n",
        "    ('vectorizer', CountVectorizer()),\n",
        "    ('nb', MultinomialNB())\n",
        "])"
      ],
      "metadata": {
        "id": "7cSe95EOvaaq"
      },
      "execution_count": null,
      "outputs": []
    },
    {
      "cell_type": "code",
      "source": [
        "clf.fit(X_train, y_train)"
      ],
      "metadata": {
        "id": "KEX8jndWvdhP"
      },
      "execution_count": null,
      "outputs": []
    },
    {
      "cell_type": "code",
      "source": [
        "y_pred = clf.predict(X_test)\n",
        "\n",
        "print(classification_report(y_test, y_pred))"
      ],
      "metadata": {
        "id": "57o9NHsYvgSc"
      },
      "execution_count": null,
      "outputs": []
    }
  ]
}